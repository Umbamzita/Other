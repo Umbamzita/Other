{
 "cells": [
  {
   "cell_type": "code",
   "execution_count": 2,
   "metadata": {},
   "outputs": [],
   "source": [
    "from abc import ABC, abstractmethod"
   ]
  },
  {
   "cell_type": "code",
   "execution_count": 3,
   "metadata": {},
   "outputs": [],
   "source": [
    "class Robot:\n",
    "    def __init__(self):\n",
    "        self.bipedal = False\n",
    "        self.quadripedal = False\n",
    "        self.wheeled = False\n",
    "        self.flying = False\n",
    "        self.traversal = []\n",
    "        self.detection_systems = []\n",
    "        \n",
    "    def __str__(self):\n",
    "        string = \"\"\n",
    "        if self.bipedal:\n",
    "            string += \"BIPEDAL \"\n",
    "        if self.quadripedal:\n",
    "            string += \"QUADRIPEDAL \"\n",
    "        if self.flying:\n",
    "            string += \"FLYING ROBOT \"\n",
    "        if self.wheeled:\n",
    "            string += \"ROBOT ON WHEELS\\n\"\n",
    "        else:\n",
    "            string += \"ROBOT\\n\"\n",
    "        if self.traversal:\n",
    "            string += \"Traversal modules installed:\\n\"\n",
    "        for module in self.traversal:\n",
    "            string += \"- \" + str(module) + \"\\n\"\n",
    "        if self.detection_systems:\n",
    "            string += \"Detection systems installed:\\n\"\n",
    "        for system in self.detection_systems:\n",
    "            string += \"- \" + str(system) + \"\\n\"\n",
    "        return string\n",
    "    \n",
    "class BipedalLegs:\n",
    "    def __str__(self):\n",
    "        return \"two legs\"\n",
    "    \n",
    "class QuadripedalLegs:\n",
    "    def __str__(self):\n",
    "        return \"four legs\"\n",
    "    \n",
    "class Arms:\n",
    "    def __str__(self):\n",
    "        return \"four legs\"\n",
    "    \n",
    "class Wings:\n",
    "    def __str__(self):\n",
    "        return \"wings\"\n",
    "    \n",
    "class Blades:\n",
    "    def __str__(self):\n",
    "        return \"blades\"\n",
    "    \n",
    "class FourWheels:\n",
    "    def __str__(self):\n",
    "        return \"four wheels\"\n",
    "    \n",
    "class TwoWheels:\n",
    "    def __str__(self):\n",
    "        return \"two wheels\"\n",
    "    \n",
    "class CameraDetectionSystem:\n",
    "    def __str__(self):\n",
    "        return \"cameras\"\n",
    "    \n",
    "class InfraredDetectionSystem:\n",
    "    def __str__(self):\n",
    "        return \"infrared\""
   ]
  },
  {
   "cell_type": "code",
   "execution_count": 4,
   "metadata": {},
   "outputs": [],
   "source": [
    "class RobotBuilder(ABC):\n",
    "    @abstractmethod\n",
    "    def reset(self):\n",
    "        pass\n",
    "    \n",
    "    @abstractmethod\n",
    "    def build_traversal(self):\n",
    "        pass\n",
    "    \n",
    "    @abstractmethod\n",
    "    def build_detection_system(self):\n",
    "        pass"
   ]
  },
  {
   "cell_type": "code",
   "execution_count": 5,
   "metadata": {},
   "outputs": [],
   "source": [
    "class AndroidBuilder(RobotBuilder):\n",
    "    def __init__(self):\n",
    "        self.product = Robot()\n",
    "        \n",
    "    def reset(self):\n",
    "        self.product = Robot()\n",
    "        \n",
    "    def get_product(self):\n",
    "        return self.product\n",
    "    \n",
    "    def build_traversal(self):\n",
    "        self.product.bipedal = True\n",
    "        self.product.traversal.append(BipedalLegs())\n",
    "        self.product.traversal.append(Arms())\n",
    "        \n",
    "    def build_detection_system(self):\n",
    "        self.product.detection_systems.append(CameraDetectionSystem())"
   ]
  },
  {
   "cell_type": "code",
   "execution_count": 6,
   "metadata": {},
   "outputs": [],
   "source": [
    "class AutonomousCarBuilder(RobotBuilder):\n",
    "    def __init__(self):\n",
    "        self.product = Robot()\n",
    "        \n",
    "    def reset(self):\n",
    "        self.product = Robot()\n",
    "        \n",
    "    def get_product(self):\n",
    "        return self.product\n",
    "    \n",
    "    def build_traversal(self):\n",
    "        self.product.wheeled = True\n",
    "        self.product.traversal.append(FourWheels())\n",
    "        \n",
    "    def build_detection_system(self):\n",
    "        self.product.detection_systems.append(InfraredDetectionSystem())"
   ]
  },
  {
   "cell_type": "code",
   "execution_count": 14,
   "metadata": {},
   "outputs": [],
   "source": [
    "android = AndroidBuilder()"
   ]
  },
  {
   "cell_type": "code",
   "execution_count": 15,
   "metadata": {},
   "outputs": [
    {
     "name": "stdout",
     "output_type": "stream",
     "text": [
      "BIPEDAL ROBOT\n",
      "Traversal modules installed:\n",
      "- two legs\n",
      "- four legs\n",
      "\n"
     ]
    }
   ],
   "source": [
    "android.build_traversal()\n",
    "print(android.get_product())"
   ]
  },
  {
   "cell_type": "code",
   "execution_count": 16,
   "metadata": {},
   "outputs": [
    {
     "name": "stdout",
     "output_type": "stream",
     "text": [
      "BIPEDAL ROBOT\n",
      "Traversal modules installed:\n",
      "- two legs\n",
      "- four legs\n",
      "Detection systems installed:\n",
      "- cameras\n",
      "\n"
     ]
    }
   ],
   "source": [
    "android.build_detection_system()\n",
    "print(android.get_product())"
   ]
  },
  {
   "cell_type": "code",
   "execution_count": 27,
   "metadata": {},
   "outputs": [
    {
     "name": "stdout",
     "output_type": "stream",
     "text": [
      "ROBOT\n",
      "\n"
     ]
    }
   ],
   "source": [
    "android.reset()\n",
    "print(android.get_product())"
   ]
  },
  {
   "cell_type": "code",
   "execution_count": 22,
   "metadata": {},
   "outputs": [],
   "source": [
    "class Director:\n",
    "    def make_android(self, builder):\n",
    "        builder.build_detection_system()\n",
    "        builder.build_traversal()\n",
    "        return builder.get_product()"
   ]
  },
  {
   "cell_type": "code",
   "execution_count": 23,
   "metadata": {},
   "outputs": [],
   "source": [
    "director = Director()"
   ]
  },
  {
   "cell_type": "code",
   "execution_count": 26,
   "metadata": {},
   "outputs": [
    {
     "name": "stdout",
     "output_type": "stream",
     "text": [
      "BIPEDAL ROBOT\n",
      "Traversal modules installed:\n",
      "- two legs\n",
      "- four legs\n",
      "Detection systems installed:\n",
      "- cameras\n",
      "\n"
     ]
    }
   ],
   "source": [
    "print(director.make_android(AndroidBuilder()))"
   ]
  },
  {
   "cell_type": "code",
   "execution_count": null,
   "metadata": {},
   "outputs": [],
   "source": []
  }
 ],
 "metadata": {
  "kernelspec": {
   "display_name": "Python 3",
   "language": "python",
   "name": "python3"
  },
  "language_info": {
   "codemirror_mode": {
    "name": "ipython",
    "version": 3
   },
   "file_extension": ".py",
   "mimetype": "text/x-python",
   "name": "python",
   "nbconvert_exporter": "python",
   "pygments_lexer": "ipython3",
   "version": "3.7.3"
  }
 },
 "nbformat": 4,
 "nbformat_minor": 2
}
