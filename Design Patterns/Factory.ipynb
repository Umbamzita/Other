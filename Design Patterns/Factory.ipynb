{
 "cells": [
  {
   "cell_type": "code",
   "execution_count": 2,
   "metadata": {},
   "outputs": [],
   "source": [
    "from abc import ABC, abstractmethod"
   ]
  },
  {
   "cell_type": "code",
   "execution_count": 3,
   "metadata": {},
   "outputs": [],
   "source": [
    "class Product(ABC):\n",
    "    @abstractmethod\n",
    "    def calculate_risk(self):\n",
    "        pass"
   ]
  },
  {
   "cell_type": "code",
   "execution_count": 6,
   "metadata": {},
   "outputs": [],
   "source": [
    "class Worker(Product):\n",
    "    def __init__(self, name, age, hours):\n",
    "        self.name = name\n",
    "        self.age = age\n",
    "        self.hours = hours\n",
    "        \n",
    "    def calculate_risk(self):\n",
    "        return self.age + 100/self.hours\n",
    "    \n",
    "    def __str__(self):\n",
    "        return self.name+\" [\"+str(self.age)+\"] - \"+str(self.hours)+\"h/week\""
   ]
  },
  {
   "cell_type": "code",
   "execution_count": 15,
   "metadata": {},
   "outputs": [],
   "source": [
    "class Unemployed(Product):\n",
    "    def __init__(self, name, age, able):\n",
    "        self.name = name\n",
    "        self.age = age\n",
    "        self.able = able\n",
    "        \n",
    "    def calculate_risk(self):\n",
    "        if self.able:\n",
    "            return self.age + 10\n",
    "        else:\n",
    "            return self.age + 30\n",
    "        \n",
    "    def __str__(self):\n",
    "        if self.able:\n",
    "            return self.name + \" [\"+str(self.age)+\"] - able to work\"\n",
    "        else: \n",
    "            return self.name + \" [\"+str(self.age)+\"] - unable to work\""
   ]
  },
  {
   "cell_type": "code",
   "execution_count": 31,
   "metadata": {},
   "outputs": [],
   "source": [
    "class PersonalFactoy:\n",
    "    def get_person(self, type_of_person):\n",
    "        if type_of_person == 'worker':\n",
    "            return Worker(\"Oliver\", 22, 30)\n",
    "        elif type_of_person == 'unemployed':\n",
    "            return Unemployed(\"Sophiya\", 30, True)"
   ]
  },
  {
   "cell_type": "code",
   "execution_count": 32,
   "metadata": {},
   "outputs": [],
   "source": [
    "factory = PersonalFactoy()\n",
    "product = factory.get_person('worker')\n",
    "product2 = factory.get_person('unemployed')"
   ]
  },
  {
   "cell_type": "code",
   "execution_count": 33,
   "metadata": {},
   "outputs": [
    {
     "name": "stdout",
     "output_type": "stream",
     "text": [
      "Sophiya [30] - able to work\n"
     ]
    }
   ],
   "source": [
    "print(product2)"
   ]
  },
  {
   "cell_type": "code",
   "execution_count": 34,
   "metadata": {},
   "outputs": [
    {
     "name": "stdout",
     "output_type": "stream",
     "text": [
      "Oliver [22] - 30h/week\n"
     ]
    }
   ],
   "source": [
    "print(product)"
   ]
  },
  {
   "cell_type": "code",
   "execution_count": 35,
   "metadata": {},
   "outputs": [
    {
     "data": {
      "text/plain": [
       "25.333333333333332"
      ]
     },
     "execution_count": 35,
     "metadata": {},
     "output_type": "execute_result"
    }
   ],
   "source": [
    "product.calculate_risk()"
   ]
  },
  {
   "cell_type": "code",
   "execution_count": 36,
   "metadata": {},
   "outputs": [
    {
     "data": {
      "text/plain": [
       "40"
      ]
     },
     "execution_count": 36,
     "metadata": {},
     "output_type": "execute_result"
    }
   ],
   "source": [
    "product2.calculate_risk()"
   ]
  },
  {
   "cell_type": "code",
   "execution_count": null,
   "metadata": {},
   "outputs": [],
   "source": []
  },
  {
   "cell_type": "code",
   "execution_count": null,
   "metadata": {},
   "outputs": [],
   "source": []
  },
  {
   "cell_type": "code",
   "execution_count": null,
   "metadata": {},
   "outputs": [],
   "source": []
  }
 ],
 "metadata": {
  "kernelspec": {
   "display_name": "Python 3",
   "language": "python",
   "name": "python3"
  },
  "language_info": {
   "codemirror_mode": {
    "name": "ipython",
    "version": 3
   },
   "file_extension": ".py",
   "mimetype": "text/x-python",
   "name": "python",
   "nbconvert_exporter": "python",
   "pygments_lexer": "ipython3",
   "version": "3.7.3"
  }
 },
 "nbformat": 4,
 "nbformat_minor": 2
}
