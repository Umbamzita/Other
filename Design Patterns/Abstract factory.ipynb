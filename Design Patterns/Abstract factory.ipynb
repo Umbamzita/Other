{
 "cells": [
  {
   "cell_type": "code",
   "execution_count": 1,
   "metadata": {},
   "outputs": [],
   "source": [
    "from abc import ABC, abstractmethod"
   ]
  },
  {
   "cell_type": "code",
   "execution_count": 2,
   "metadata": {},
   "outputs": [],
   "source": [
    "class Product(ABC):\n",
    "    @abstractmethod\n",
    "    def cook(self):\n",
    "        pass"
   ]
  },
  {
   "cell_type": "code",
   "execution_count": 3,
   "metadata": {},
   "outputs": [],
   "source": [
    "class FettuccineAlfredo(Product):\n",
    "    name = \"Fettuccine Alfredo\"\n",
    "    def cook(self):\n",
    "        print(\"Italian main course prepared: \"+self.name)\n",
    "\n",
    "class Tiramisu(Product):\n",
    "    name = \"Tiramisu\"\n",
    "    def cook(self):\n",
    "        print(\"Italian dessert prepared: \"+self.name)        "
   ]
  },
  {
   "cell_type": "code",
   "execution_count": 4,
   "metadata": {},
   "outputs": [],
   "source": [
    "class Draniki(Product):\n",
    "    name = 'Draniki'\n",
    "    def cook(self):\n",
    "        print('Belarus main course prepared: ' + self.name)\n",
    "class IceCream(Product):\n",
    "    name = 'Ice Cream'\n",
    "    def cook(self):\n",
    "        print('Belarus dessert prepared: ' + self.name)\n",
    "        "
   ]
  },
  {
   "cell_type": "code",
   "execution_count": 5,
   "metadata": {},
   "outputs": [],
   "source": [
    "class Factory(ABC):\n",
    "    @abstractmethod\n",
    "    def get_dish(type_of_food):\n",
    "        pass"
   ]
  },
  {
   "cell_type": "code",
   "execution_count": 9,
   "metadata": {},
   "outputs": [],
   "source": [
    "class ItalianFactory(Factory):\n",
    "    def get_dish(type_of_food):\n",
    "        if type_of_food == 'main':\n",
    "            return FettuccineAlfredo()\n",
    "        elif type_of_food == 'dessert': \n",
    "            return Tiramisu()\n",
    "    "
   ]
  },
  {
   "cell_type": "code",
   "execution_count": 10,
   "metadata": {},
   "outputs": [],
   "source": [
    "class BelarusFactory(Factory):\n",
    "    def get_dish(type_of_food):\n",
    "        if type_of_food == 'main':\n",
    "            return Draniki()\n",
    "        elif type_of_food == 'dessert':\n",
    "            return IceCream()"
   ]
  },
  {
   "cell_type": "code",
   "execution_count": 25,
   "metadata": {},
   "outputs": [],
   "source": [
    "class FactoryProducer:\n",
    "    def get_factory(self, type_factory):\n",
    "        if type_factory == 'italian':\n",
    "            return ItalianFactory\n",
    "        elif type_factory =='belarus':\n",
    "            return BelarusFactory"
   ]
  },
  {
   "cell_type": "code",
   "execution_count": 26,
   "metadata": {},
   "outputs": [],
   "source": [
    "f = FactoryProducer()\n"
   ]
  },
  {
   "cell_type": "code",
   "execution_count": 27,
   "metadata": {},
   "outputs": [],
   "source": [
    "fi = f.get_factory('italian')"
   ]
  },
  {
   "cell_type": "code",
   "execution_count": 36,
   "metadata": {},
   "outputs": [],
   "source": [
    "ital_main =fi.get_dish('main')"
   ]
  },
  {
   "cell_type": "code",
   "execution_count": 40,
   "metadata": {},
   "outputs": [
    {
     "name": "stdout",
     "output_type": "stream",
     "text": [
      "Italian main course prepared: Fettuccine Alfredo\n"
     ]
    }
   ],
   "source": [
    "ital_main.cook()"
   ]
  },
  {
   "cell_type": "code",
   "execution_count": 41,
   "metadata": {},
   "outputs": [],
   "source": [
    "fb=f.get_factory('belarus')"
   ]
  },
  {
   "cell_type": "code",
   "execution_count": 37,
   "metadata": {},
   "outputs": [],
   "source": [
    "belarus_dess = fb.get_dish('dessert')"
   ]
  },
  {
   "cell_type": "code",
   "execution_count": 39,
   "metadata": {},
   "outputs": [
    {
     "name": "stdout",
     "output_type": "stream",
     "text": [
      "Belarus dessert prepared: Ice Cream\n"
     ]
    }
   ],
   "source": [
    "belarus_dess.cook()"
   ]
  },
  {
   "cell_type": "code",
   "execution_count": null,
   "metadata": {},
   "outputs": [],
   "source": []
  },
  {
   "cell_type": "code",
   "execution_count": null,
   "metadata": {},
   "outputs": [],
   "source": []
  }
 ],
 "metadata": {
  "kernelspec": {
   "display_name": "Python 3",
   "language": "python",
   "name": "python3"
  },
  "language_info": {
   "codemirror_mode": {
    "name": "ipython",
    "version": 3
   },
   "file_extension": ".py",
   "mimetype": "text/x-python",
   "name": "python",
   "nbconvert_exporter": "python",
   "pygments_lexer": "ipython3",
   "version": "3.7.3"
  }
 },
 "nbformat": 4,
 "nbformat_minor": 2
}
