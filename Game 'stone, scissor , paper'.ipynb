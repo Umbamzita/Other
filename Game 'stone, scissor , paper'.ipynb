{
 "cells": [
  {
   "cell_type": "code",
   "execution_count": 28,
   "metadata": {},
   "outputs": [
    {
     "name": "stdout",
     "output_type": "stream",
     "text": [
      "Enter stone or scissors or paper: stone\n",
      "congratulations! You are win!!!\n",
      "[1, 0]\n",
      "Enter stone or scissors or paper: stone\n",
      "congratulations! You are win!!!\n",
      "[2, 0]\n",
      "Enter stone or scissors or paper: stone\n",
      "Draw, again choice\n",
      "[2, 0]\n",
      "Enter stone or scissors or paper: stone\n",
      "Draw, again choice\n",
      "[2, 0]\n",
      "Enter stone or scissors or paper: stone\n",
      "congratulations! You are win!!!\n",
      "[3, 0]\n",
      "Enter stone or scissors or paper: stone\n",
      "We hope, you\"ll win in next time\n",
      "[3, 1]\n",
      "Enter stone or scissors or paper: stone\n",
      "Draw, again choice\n",
      "[3, 1]\n",
      "Enter stone or scissors or paper: paper\n",
      "congratulations! You are win!!!\n",
      "[4, 1]\n",
      "Enter stone or scissors or paper: pa\n",
      "Enter correct choice\n",
      "Enter stone or scissors or paper: paper\n",
      "congratulations! You are win!!!\n",
      "[5, 1]\n",
      "Enter stone or scissors or paper: paper\n",
      "Draw, again choice\n",
      "[5, 1]\n",
      "Enter stone or scissors or paper: paper\n",
      "We hope, you\"ll win in next time\n",
      "[5, 2]\n",
      "Enter stone or scissors or paper: paper\n",
      "We hope, you\"ll win in next time\n",
      "[5, 3]\n",
      "Enter stone or scissors or paper: paper\n",
      "Draw, again choice\n",
      "[5, 3]\n",
      "Enter stone or scissors or paper: stone\n",
      "We hope, you\"ll win in next time\n",
      "[5, 4]\n",
      "Enter stone or scissors or paper: stone\n",
      "congratulations! You are win!!!\n",
      "[6, 4]\n",
      "Enter stone or scissors or paper: q\n"
     ]
    }
   ],
   "source": [
    "import random\n",
    "count=[0,0]\n",
    "\n",
    "while True:\n",
    "    choice = ['stone','scissors', 'paper']\n",
    "    result = {\n",
    "            'stonescissors' : 1,\n",
    "            'stonepaper' : 0,\n",
    "            'scissorspaper' : 1,\n",
    "            'scissorsstone' : 0,\n",
    "            'paperstone' : 1,\n",
    "            'paperscissors' : 0,\n",
    "            }\n",
    "    human=input('Enter stone or scissors or paper: ')\n",
    "    machine = random.choice(choice)\n",
    "    if human in choice:\n",
    "        try:\n",
    "            if result[human+machine]==0:\n",
    "                print('We hope, you\"ll win in next time')\n",
    "                count[1]+=1\n",
    "            elif result[human+machine]==1:\n",
    "                print('congratulations! You are win!!!')\n",
    "                count[0]+=1\n",
    "        except:\n",
    "            print('Draw, again choice')\n",
    " \n",
    "        print(count)\n",
    "        \n",
    "    elif human == 'q':\n",
    "        break\n",
    "    else:\n",
    "        print('Enter correct choice')\n",
    "        continue\n",
    "    "
   ]
  },
  {
   "cell_type": "code",
   "execution_count": null,
   "metadata": {},
   "outputs": [],
   "source": []
  },
  {
   "cell_type": "code",
   "execution_count": null,
   "metadata": {},
   "outputs": [],
   "source": []
  },
  {
   "cell_type": "code",
   "execution_count": null,
   "metadata": {},
   "outputs": [],
   "source": []
  },
  {
   "cell_type": "code",
   "execution_count": null,
   "metadata": {},
   "outputs": [],
   "source": []
  },
  {
   "cell_type": "code",
   "execution_count": null,
   "metadata": {},
   "outputs": [],
   "source": []
  }
 ],
 "metadata": {
  "kernelspec": {
   "display_name": "Python 3",
   "language": "python",
   "name": "python3"
  },
  "language_info": {
   "codemirror_mode": {
    "name": "ipython",
    "version": 3
   },
   "file_extension": ".py",
   "mimetype": "text/x-python",
   "name": "python",
   "nbconvert_exporter": "python",
   "pygments_lexer": "ipython3",
   "version": "3.7.3"
  }
 },
 "nbformat": 4,
 "nbformat_minor": 2
}
