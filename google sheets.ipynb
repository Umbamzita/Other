{
 "cells": [
  {
   "cell_type": "code",
   "execution_count": 1,
   "metadata": {},
   "outputs": [],
   "source": [
    "# !pip install oauth2client\n",
    "# !pip install google-api-python-client\n",
    "# !pip install pprint"
   ]
  },
  {
   "cell_type": "code",
   "execution_count": 1,
   "metadata": {},
   "outputs": [],
   "source": [
    "from pprint import pprint\n",
    "import httplib2\n",
    "import apiclient.discovery\n",
    "from oauth2client.service_account import ServiceAccountCredentials\n",
    "from datetime import datetime, date, time\n",
    "from random import choice"
   ]
  },
  {
   "cell_type": "code",
   "execution_count": 2,
   "metadata": {},
   "outputs": [],
   "source": [
    "equipment =[\n",
    "    ['БСУ№1(Инерт.Мат.)', 'Распределительный пункт 601 РП-601'],\n",
    "    ['БСУ№1(Инерт.Мат.)', 'Шкаф управления 7.1 ШУ-7.1'],\n",
    "    ['БСУ№1(Инерт.Мат.)', 'Шкаф управления 8.1 ШУ-8.1'],\n",
    "    ['БСУ№1(Инерт.Мат.)', 'Шкаф управления 8.2 ШУ-8.2'],\n",
    "    ['БСУ№1(Инерт.Мат.)', 'Шкаф управления 9.1  ШУ-9.1'],\n",
    "    ['БСУ№1(Инерт.Мат.)', 'Шкаф управления 9.2  ШУ-9.2'],\n",
    "    ['БСУ№1(Инерт.Мат.)', 'Пульт включения системы ПВС'],\n",
    "    ['БСУ№1(Инерт.Мат.)', 'Пост местного управления конвейером ЛК-12 ПМУ- LK-12'],\n",
    "    ['БСУ№1(Инерт.Мат.)', 'Пост местного управления конвейером  ЛК-13 ПМУ- LK-13'],\n",
    "    ['БСУ№1(Инерт.Мат.)', 'Пост местного управления конвейер ЛК-16 ПМУ- LK-16'],\n",
    "    ['БСУ№1(Инерт.Мат.)', 'Пульт управления переключателем потока секции 1.2.-3.4  ПМУ -РК-1'],\n",
    "    ['БСУ№1(Инерт.Мат.)', 'Пост местного управления конвейером ЛК -17  ПМУ- LK-17'],\n",
    "    ['БСУ№1(Инерт.Мат.)', 'Пост местного управления конвейером ЛК-18 ПМУ- LK-18'],\n",
    "    ['БСУ№1(Инерт.Мат.)', 'Пульт управления поворотным устройством  конвейер ЛК-18 ПМУ- PV-18'],\n",
    "    ['БСУ№1(Инерт.Мат.)', 'Пост местного управления конвейером  ЛК-14 ПМУ- LK-14'],\n",
    "    ['БСУ№1(Инерт.Мат.)', 'Пост местного управления конвейером ЛК-15  ПМУ- LK-15'],\n",
    "    ['БСУ№1(Инерт.Мат.)', 'Пульт управления поворотным устройством  конвейером ЛК 15 ПМУ- PV-15'],\n",
    "    ['БСУ№1(Инерт.Мат.)', 'Пост включения ИМ КУ-ИМ'],\n",
    "    ['БСУ№1(Инерт.Мат.)', 'Пульт управления переключателем потока Грохот 1 ПМУ -РК2'],\n",
    "    ['БСУ№1(Инерт.Мат.)', 'Пульт управления переключателем потока грохот 2 ПМУ -РК3'],\n",
    "    ['БСУ№1(Инерт.Мат.)', 'Пост местного управления конвейером LK-11 ПМУ- LK-11'],\n",
    "    ['БСУ№1(Инерт.Мат.)', 'Пост местного управления Грохот 1 ПМУ- GR-1'],\n",
    "    ['БСУ№1(Инерт.Мат.)', 'Пост местного управления Грохот 2  ПМУ-GR-2'],\n",
    "    ['БСУ№1(Инерт.Мат.)', 'Система безопастности '],\n",
    "    ['ЦОК', 'Пила двухголовочная автоматическая со штрих кодом'],\n",
    "    ['ЦОК', 'Станок для обработки торцов импоста'],\n",
    "    ['ЦОК', 'Конвеер подачи заготовок '],\n",
    "    ['ЦОК', 'Машина для резки профиля-трубы (пила для резки армирования)'],\n",
    "    ['ЦОК', 'Пила для резки штапика (автоматическая)'],\n",
    "    ['ЦОК', 'Рольган измерительный с PLC контрольной системой и сенсорным экраном '],\n",
    "    ['ЦОК', 'Станок для фрезерования  водоотливных каналов  '],\n",
    "    ['ЦОК', 'Станок ПВХ сварочный  четырех головочный с укладчиком уплотнителя'],\n",
    "    ['ЦОК', 'Станок углозачистной  ПВХ CNC 600 '],\n",
    "    ['ЦОК', 'Станок фрезеровальный '],\n",
    "    ['ЦОК', 'Установка компресорная ВК-10Е-10-500Д'],\n",
    "    ['ЦОК', 'Пылесос-стружкоотсос  (Вытяжная установка)']\n",
    "]"
   ]
  },
  {
   "cell_type": "code",
   "execution_count": 3,
   "metadata": {},
   "outputs": [],
   "source": [
    "first = time(hour=7, minute=30)\n",
    "second = time(hour = 15, minute = 50)\n",
    "third = time(hour = 0, minute = 10)"
   ]
  },
  {
   "cell_type": "code",
   "execution_count": 4,
   "metadata": {},
   "outputs": [],
   "source": [
    "def randomize(slug=None):\n",
    "    lst = [[], ['Осипенко (н. КИПиА 5р)'], [], [], [], [], ['ТО'], [\"-\\\\-\"], []]\n",
    "       \n",
    "    date_today = date.today().strftime(\"%d-%m-%Y\")\n",
    "    time_now = datetime.now().time()\n",
    "    \n",
    "    if time_now < second and time_now > first:\n",
    "        lst[2] = ['I']\n",
    "        lst[3] = ['7:30']\n",
    "    elif time_now > second:\n",
    "        lst[2]=['II']\n",
    "        lst[3] = ['15:50']\n",
    "    elif time_now < first and time_now > third:\n",
    "        lst[2]=['III']\n",
    "        lst[3] = ['0:10']\n",
    "        \n",
    "    ceh , machine = choice(equipment)\n",
    "    \n",
    "    lst[0].append(date_today)\n",
    "    lst[4].append(ceh)\n",
    "    while machine in used_machine:\n",
    "        ceh , machine = choice(equipment)\n",
    "    \n",
    "    lst[5].append(machine)\n",
    "    used_machine.append(machine)\n",
    "    timing_c = choice(timing)\n",
    "    if not slug:\n",
    "        lst[8].append(timing_c) \n",
    "        total_time.append(timing_c)\n",
    "    else:\n",
    "        lst[8].append(slug)\n",
    "        total_time.append(slug)\n",
    "    return lst\n",
    "    \n",
    "    "
   ]
  },
  {
   "cell_type": "code",
   "execution_count": 5,
   "metadata": {},
   "outputs": [],
   "source": [
    "def get_of_rest_time():\n",
    "    sheet = service.spreadsheets()\n",
    "    result = sheet.values().get(spreadsheetId=spreadsheets_id,range=\"A1:I10000\").execute()\n",
    "    values = result.get('values', [])\n",
    "    \n",
    "    osip_sum = 0\n",
    "    temp = 0\n",
    "    u = False\n",
    "    for x in range(-1,-5,-1):\n",
    "        try:\n",
    "            if values[x][1] == 'Осипенко (н. КИПиА 5р)':\n",
    "                osip_sum += float(values[x][-1].replace(',','.'))\n",
    "                u = True\n",
    "                break\n",
    "            elif values[x][1] == '' or not values[x][1]:\n",
    "                temp += float(values[x][-1].replace(',','.'))\n",
    "        except:\n",
    "            pass\n",
    "    if u:\n",
    "        total_time.append(osip_sum + temp)\n",
    "    "
   ]
  },
  {
   "cell_type": "code",
   "execution_count": 6,
   "metadata": {},
   "outputs": [],
   "source": [
    "def main(slug):\n",
    "    \n",
    "    lst = randomize(slug)\n",
    "    resource = { \"majorDimension\": \"COLUMNS\",  \"values\": lst  }\n",
    "    range_ = \"Лист1!A:A\"\n",
    "    add_info =service.spreadsheets().values().append(spreadsheetId=spreadsheets_id, range=range_,  body=resource,\n",
    "        valueInputOption=\"USER_ENTERED\")\n",
    "    return add_info\n",
    "    \n",
    "    "
   ]
  },
  {
   "cell_type": "code",
   "execution_count": 13,
   "metadata": {},
   "outputs": [],
   "source": [
    "def write_data():\n",
    "    while True:\n",
    "        if 10.4 - sum(total_time)  >=1.5:\n",
    "            slug = None\n",
    "            main(slug).execute()\n",
    "        else:\n",
    "            slug = 10.4 - sum(total_time)\n",
    "            main(slug).execute()\n",
    "            break\n"
   ]
  },
  {
   "cell_type": "code",
   "execution_count": 17,
   "metadata": {},
   "outputs": [],
   "source": [
    "if __name__ == '__main__':\n",
    "    CREDENTIALS_FILE = 'creeds.json'\n",
    "    spreadsheets_id = '127qX72BR2ljv1JcihjiDHAxCA8i5xYDjHFO9S-zQ5eM'\n",
    "    credentials = ServiceAccountCredentials.from_json_keyfile_name(\n",
    "        CREDENTIALS_FILE, ['https://www.googleapis.com/auth/spreadsheets',\n",
    "                            'https://www.googleapis.com/auth/drive'\n",
    "                          ])\n",
    "\n",
    "    httpAuth = credentials.authorize(httplib2.Http())\n",
    "    service = apiclient.discovery.build('sheets', 'v4', http = httpAuth)\n",
    "    timing= [0.5, 1, 1.5]\n",
    "    used_machine = []\n",
    "    total_time = []\n",
    "    get_of_rest_time()\n",
    "    write_data()"
   ]
  },
  {
   "cell_type": "code",
   "execution_count": 35,
   "metadata": {},
   "outputs": [],
   "source": []
  },
  {
   "cell_type": "code",
   "execution_count": 61,
   "metadata": {},
   "outputs": [],
   "source": []
  },
  {
   "cell_type": "code",
   "execution_count": null,
   "metadata": {},
   "outputs": [],
   "source": []
  }
 ],
 "metadata": {
  "kernelspec": {
   "display_name": "virtual",
   "language": "python",
   "name": "virtual"
  },
  "language_info": {
   "codemirror_mode": {
    "name": "ipython",
    "version": 3
   },
   "file_extension": ".py",
   "mimetype": "text/x-python",
   "name": "python",
   "nbconvert_exporter": "python",
   "pygments_lexer": "ipython3",
   "version": "3.7.3"
  }
 },
 "nbformat": 4,
 "nbformat_minor": 2
}
